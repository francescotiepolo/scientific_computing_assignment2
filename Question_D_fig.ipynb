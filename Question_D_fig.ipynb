{
 "cells": [
  {
   "cell_type": "code",
   "execution_count": null,
   "metadata": {},
   "outputs": [],
   "source": [
    "import numpy as np\n",
    "import matplotlib.pyplot as plt\n",
    "from src.Question_D_funcs import run_simulation\n",
    "\n",
    "# parameters\n",
    "size = 100  \n",
    "dx = 1\n",
    "dt = 1\n",
    "steps = 10000  # simulation steps\n",
    "parameter_sets = [\n",
    "    (0.16, 0.08, 0.035, 0.060),\n",
    "    (0.14, 0.06, 0.035, 0.060),\n",
    "    (0.18, 0.10, 0.040, 0.065),\n",
    "]\n",
    "\n",
    "\n",
    "\n",
    "fig, axes = plt.subplots(4, len(parameter_sets), figsize=(15, 20))\n",
    "\n",
    "for row_offset, noise in zip([0, 2], [0.0, 0.0005]):\n",
    "    results = run_simulation(size, steps, parameter_sets, dx, dt, noise)\n",
    "    for col, (u, v, Du, Dv, f, k, noise) in enumerate(results):\n",
    "        # Plot U concentration\n",
    "        im_u = axes[row_offset, col].imshow(u, cmap='viridis', vmin=0, vmax=1)\n",
    "        axes[row_offset, col].set_title(f\"U Concentration (Noise={noise})\\nDu={Du}, Dv={Dv}, f={f}, k={k}\")\n",
    "        fig.colorbar(im_u, ax=axes[row_offset, col], fraction=0.046, pad=0.04)\n",
    "\n",
    "        # Plot V concentration\n",
    "        im_v = axes[row_offset + 1, col].imshow(v, cmap='magma', vmin=0, vmax=0.5)\n",
    "        axes[row_offset + 1, col].set_title(f\"V Concentration (Noise={noise})\\nDu={Du}, Dv={Dv}, f={f}, k={k}\")\n",
    "        fig.colorbar(im_v, ax=axes[row_offset + 1, col], fraction=0.046, pad=0.04)\n",
    "\n",
    "plt.tight_layout()\n",
    "plt.show()"
   ]
  }
 ],
 "metadata": {
  "language_info": {
   "name": "python"
  }
 },
 "nbformat": 4,
 "nbformat_minor": 2
}
